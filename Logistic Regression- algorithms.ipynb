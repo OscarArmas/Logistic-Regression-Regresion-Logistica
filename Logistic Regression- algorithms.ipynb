{
 "cells": [
  {
   "cell_type": "markdown",
   "metadata": {},
   "source": [
    "# Logistic Regression- algorithms"
   ]
  },
  {
   "cell_type": "markdown",
   "metadata": {},
   "source": [
    "* (English)Suppose that you are the administrator of a university department and you want to determine each applicant’s chance of admission based on their results on two exams. You have historical data from previous applicants that you can use as a training set for logistic regression. For each training example, you have the applicant’s scores on two exams and the admissions decision. Your task is to build a classiﬁcation model that estimates an applicant’s probability of admission based the scores from those two exams.\n",
    "* (Español)Supongamos que usted es el administrador de un departamento universitario y desea determinar la posibilidad de admisión de cada solicitante en función de sus resultados en dos exámenes. Tiene datos históricos de solicitantes anteriores que puede utilizar como conjunto de capacitación para la regresión logística. Para cada ejemplo de capacitación, tiene los puntajes del solicitante en dos exámenes y la decisión de admisión. Su tarea es construir un modelo de clasificación que estime la probabilidad de admisión de un solicitante basándose en los puntajes de esos dos exámenes.\n"
   ]
  },
  {
   "cell_type": "code",
   "execution_count": 1,
   "metadata": {},
   "outputs": [],
   "source": [
    "import numpy as np\n",
    "import pandas as pd\n",
    "import matplotlib.pyplot as plt\n",
    "from IPython.display import display, Math, Latex\n",
    "import scipy.optimize as op"
   ]
  },
  {
   "cell_type": "code",
   "execution_count": 2,
   "metadata": {},
   "outputs": [],
   "source": [
    " # load the data- cargamos los datos\n",
    "\n",
    "data = pd.read_table('C://Users//Z420//Downloads//machine-learning-ex2//ex2/ex2data1.txt', sep = ',', header=None);"
   ]
  },
  {
   "cell_type": "code",
   "execution_count": 3,
   "metadata": {},
   "outputs": [
    {
     "data": {
      "text/html": [
       "<div>\n",
       "<style scoped>\n",
       "    .dataframe tbody tr th:only-of-type {\n",
       "        vertical-align: middle;\n",
       "    }\n",
       "\n",
       "    .dataframe tbody tr th {\n",
       "        vertical-align: top;\n",
       "    }\n",
       "\n",
       "    .dataframe thead th {\n",
       "        text-align: right;\n",
       "    }\n",
       "</style>\n",
       "<table border=\"1\" class=\"dataframe\">\n",
       "  <thead>\n",
       "    <tr style=\"text-align: right;\">\n",
       "      <th></th>\n",
       "      <th>0</th>\n",
       "      <th>1</th>\n",
       "      <th>2</th>\n",
       "    </tr>\n",
       "  </thead>\n",
       "  <tbody>\n",
       "    <tr>\n",
       "      <th>0</th>\n",
       "      <td>34.623660</td>\n",
       "      <td>78.024693</td>\n",
       "      <td>0</td>\n",
       "    </tr>\n",
       "    <tr>\n",
       "      <th>1</th>\n",
       "      <td>30.286711</td>\n",
       "      <td>43.894998</td>\n",
       "      <td>0</td>\n",
       "    </tr>\n",
       "    <tr>\n",
       "      <th>2</th>\n",
       "      <td>35.847409</td>\n",
       "      <td>72.902198</td>\n",
       "      <td>0</td>\n",
       "    </tr>\n",
       "    <tr>\n",
       "      <th>3</th>\n",
       "      <td>60.182599</td>\n",
       "      <td>86.308552</td>\n",
       "      <td>1</td>\n",
       "    </tr>\n",
       "    <tr>\n",
       "      <th>4</th>\n",
       "      <td>79.032736</td>\n",
       "      <td>75.344376</td>\n",
       "      <td>1</td>\n",
       "    </tr>\n",
       "  </tbody>\n",
       "</table>\n",
       "</div>"
      ],
      "text/plain": [
       "           0          1  2\n",
       "0  34.623660  78.024693  0\n",
       "1  30.286711  43.894998  0\n",
       "2  35.847409  72.902198  0\n",
       "3  60.182599  86.308552  1\n",
       "4  79.032736  75.344376  1"
      ]
     },
     "execution_count": 3,
     "metadata": {},
     "output_type": "execute_result"
    }
   ],
   "source": [
    "# Verify that the data load is Ok- comprobamos que los datos esten cargados correctamamente\n",
    "data.head()"
   ]
  },
  {
   "cell_type": "code",
   "execution_count": 4,
   "metadata": {},
   "outputs": [
    {
     "data": {
      "text/html": [
       "<div>\n",
       "<style scoped>\n",
       "    .dataframe tbody tr th:only-of-type {\n",
       "        vertical-align: middle;\n",
       "    }\n",
       "\n",
       "    .dataframe tbody tr th {\n",
       "        vertical-align: top;\n",
       "    }\n",
       "\n",
       "    .dataframe thead th {\n",
       "        text-align: right;\n",
       "    }\n",
       "</style>\n",
       "<table border=\"1\" class=\"dataframe\">\n",
       "  <thead>\n",
       "    <tr style=\"text-align: right;\">\n",
       "      <th></th>\n",
       "      <th>0</th>\n",
       "      <th>1</th>\n",
       "      <th>2</th>\n",
       "      <th>3</th>\n",
       "    </tr>\n",
       "  </thead>\n",
       "  <tbody>\n",
       "    <tr>\n",
       "      <th>0</th>\n",
       "      <td>34.623660</td>\n",
       "      <td>78.024693</td>\n",
       "      <td>0</td>\n",
       "      <td>1.0</td>\n",
       "    </tr>\n",
       "    <tr>\n",
       "      <th>1</th>\n",
       "      <td>30.286711</td>\n",
       "      <td>43.894998</td>\n",
       "      <td>0</td>\n",
       "      <td>1.0</td>\n",
       "    </tr>\n",
       "    <tr>\n",
       "      <th>2</th>\n",
       "      <td>35.847409</td>\n",
       "      <td>72.902198</td>\n",
       "      <td>0</td>\n",
       "      <td>1.0</td>\n",
       "    </tr>\n",
       "    <tr>\n",
       "      <th>3</th>\n",
       "      <td>60.182599</td>\n",
       "      <td>86.308552</td>\n",
       "      <td>1</td>\n",
       "      <td>1.0</td>\n",
       "    </tr>\n",
       "    <tr>\n",
       "      <th>4</th>\n",
       "      <td>79.032736</td>\n",
       "      <td>75.344376</td>\n",
       "      <td>1</td>\n",
       "      <td>1.0</td>\n",
       "    </tr>\n",
       "  </tbody>\n",
       "</table>\n",
       "</div>"
      ],
      "text/plain": [
       "           0          1  2    3\n",
       "0  34.623660  78.024693  0  1.0\n",
       "1  30.286711  43.894998  0  1.0\n",
       "2  35.847409  72.902198  0  1.0\n",
       "3  60.182599  86.308552  1  1.0\n",
       "4  79.032736  75.344376  1  1.0"
      ]
     },
     "execution_count": 4,
     "metadata": {},
     "output_type": "execute_result"
    }
   ],
   "source": [
    "## add ones column to dataframe - agregamos la columna de unos al dataframe\n",
    "data[3] = np.ones(data.shape[0])\n",
    "data.head()\n"
   ]
  },
  {
   "cell_type": "code",
   "execution_count": 5,
   "metadata": {},
   "outputs": [],
   "source": [
    "## we obtain the predict variables, idnex = 0, 1 and 3(ones) in X_train- obtenemos variables predictoras indice= 0 y 1 X_train\n",
    "X =  data[[3,0,1]]\n",
    "##we obtain the column of results, index=2 - obtenemos la columan de resultados indice=2\n",
    "y = data[2]"
   ]
  },
  {
   "cell_type": "code",
   "execution_count": 19,
   "metadata": {},
   "outputs": [],
   "source": [
    "##convert the Dataframe, to Numpy matrix- convertimos los dataframes a matrices\n",
    "X_train = X.values\n",
    "y_train = y.values\n",
    "# we obtain the index with positive values =1-  obtenemos los indicies de datos positivos = 1\n",
    "pos = y[y == 1].index.tolist()\n",
    "#we obtain the index with positive values =0- obtenemos los indicies de datos negativos = 0\n",
    "neg =  y[y == 0].index.tolist()\n"
   ]
  },
  {
   "cell_type": "code",
   "execution_count": 7,
   "metadata": {},
   "outputs": [
    {
     "data": {
      "text/plain": [
       "<matplotlib.legend.Legend at 0x27bb588bd68>"
      ]
     },
     "execution_count": 7,
     "metadata": {},
     "output_type": "execute_result"
    },
    {
     "data": {
      "image/png": "[encoded data removed]",
      "text/plain": [
       "<Figure size 432x288 with 1 Axes>"
      ]
     },
     "metadata": {},
     "output_type": "display_data"
    }
   ],
   "source": [
    "## graph the data- graficar los datos \n",
    "plt.scatter(X_train[pos][:,1],X_train[pos][:,2], label = 'admitted')\n",
    "plt.scatter(X_train[neg][:,1],X_train[neg][:,2], label = 'Not admitted')\n",
    "plt.legend()"
   ]
  },
  {
   "cell_type": "code",
   "execution_count": 8,
   "metadata": {},
   "outputs": [
    {
     "data": {
      "text/plain": [
       "matrix([[5.00000000e-01, 8.80797078e-01],\n",
       "        [9.52574127e-01, 7.78113224e-20]])"
      ]
     },
     "execution_count": 8,
     "metadata": {},
     "output_type": "execute_result"
    }
   ],
   "source": [
    "# sigmoid fuction for values, vectors or matrix- sigmoide function funciona para valores solos o vectorizados\n",
    "def sigmoid(z):\n",
    "    return  1/(1+np.exp(-z))\n",
    "test = np.matrix([[0, 2], [3, -44]])\n",
    "sigmoid(test)\n"
   ]
  },
  {
   "cell_type": "code",
   "execution_count": 9,
   "metadata": {},
   "outputs": [
    {
     "data": {
      "text/latex": [
       "$$Cost Function:$$"
      ],
      "text/plain": [
       "<IPython.core.display.Math object>"
      ]
     },
     "metadata": {},
     "output_type": "display_data"
    },
    {
     "data": {
      "text/latex": [
       "$$J(\\theta)=\\frac{1}{m}\\sum_{i = 1}^m [-y^{(i)}log(h_\\theta(x^{(i)}))-(1-y^{(i)})log(1-h_\\theta(x^{(i)}))]$$"
      ],
      "text/plain": [
       "<IPython.core.display.Math object>"
      ]
     },
     "metadata": {},
     "output_type": "display_data"
    }
   ],
   "source": [
    "display(Math(r'Cost Function:'))\n",
    "display(Math(r'J(\\theta)=\\frac{1}{m}\\sum_{i = 1}^m [-y^{(i)}log(h_\\theta(x^{(i)}))-(1-y^{(i)})log(1-h_\\theta(x^{(i)}))]'))\n"
   ]
  },
  {
   "cell_type": "code",
   "execution_count": 10,
   "metadata": {},
   "outputs": [],
   "source": [
    "def costFunction(tetha, X, y):\n",
    "    m= len(y)\n",
    "    J = 0\n",
    "    grad = np.zeros(len(tetha))\n",
    "    \n",
    "    theta_T_x = X.dot(tetha)\n",
    "    sigmoid_hyps = sigmoid(theta_T_x)\n",
    "    for i in range(m):\n",
    "        temp = (-y[i]* np.log(sigmoid_hyps[i])-(1-y[i])*np.log(1-sigmoid_hyps[i]))\n",
    "        J += temp\n",
    "        \n",
    "    temp0 = sum(np.multiply(np.subtract(sigmoid_hyps,y),X[:,0]))\n",
    "    temp1 = sum(np.multiply(np.subtract(sigmoid_hyps,y),X[:,1]))\n",
    "    temp2 = sum(np.multiply(np.subtract(sigmoid_hyps,y),X[:,2]))\n",
    "    grad[0] = (temp0/m)\n",
    "    grad[1]= (temp1/m)\n",
    "    grad[2]= (temp2/m)\n",
    "        \n",
    "    return  J/m "
   ]
  },
  {
   "cell_type": "code",
   "execution_count": 11,
   "metadata": {},
   "outputs": [
    {
     "data": {
      "text/latex": [
       "$$Gradient:$$"
      ],
      "text/plain": [
       "<IPython.core.display.Math object>"
      ]
     },
     "metadata": {},
     "output_type": "display_data"
    },
    {
     "data": {
      "text/latex": [
       "$$\\frac{\\partial J(\\theta)}{\\partial \\theta_j} =\\frac{1}{m}\\sum_{i = 1}^m (H_\\theta(x^{(i)})-y^{(i)})x_j^{(i)}$$"
      ],
      "text/plain": [
       "<IPython.core.display.Math object>"
      ]
     },
     "metadata": {},
     "output_type": "display_data"
    }
   ],
   "source": [
    "display(Math(r'Gradient:'))\n",
    "display(Math(r'\\frac{\\partial J(\\theta)}{\\partial \\theta_j} =\\frac{1}{m}\\sum_{i = 1}^m (H_\\theta(x^{(i)})-y^{(i)})x_j^{(i)}'))"
   ]
  },
  {
   "cell_type": "code",
   "execution_count": 12,
   "metadata": {},
   "outputs": [],
   "source": [
    "def gradien(tetha, X, y):\n",
    "    m= len(y)\n",
    "    J = 0\n",
    "    grad = np.zeros(len(tetha))\n",
    "    \n",
    "    theta_T_x = X.dot(tetha)\n",
    "    sigmoid_hyps = sigmoid(theta_T_x)\n",
    "    grad = np.zeros(len(tetha))\n",
    "    temp0 = sum(np.multiply(np.subtract(sigmoid_hyps,y),X[:,0]))\n",
    "    temp1 = sum(np.multiply(np.subtract(sigmoid_hyps,y),X[:,1]))\n",
    "    temp2 = sum(np.multiply(np.subtract(sigmoid_hyps,y),X[:,2]))\n",
    "    grad[0] = (temp0/m)\n",
    "    grad[1]= (temp1/m)\n",
    "    grad[2]= (temp2/m)\n",
    "        \n",
    "    return   grad.flatten()"
   ]
  },
  {
   "cell_type": "markdown",
   "metadata": {},
   "source": [
    "#### Our optimization type: BFGS\n",
    "#### Nuestro optimizador de tipo BFGS"
   ]
  },
  {
   "cell_type": "code",
   "execution_count": 14,
   "metadata": {},
   "outputs": [],
   "source": [
    "initial_theta = x\n",
    "Result = op.minimize(fun = costFunction, x0 = initial_theta, args = (X_train, y_train),method = 'BFGS',jac = gradien);\n",
    "optimal_theta = Result.x;"
   ]
  },
  {
   "cell_type": "markdown",
   "metadata": {},
   "source": [
    "#### The theta optim:\n",
    "#### Las constantes optimas son:"
   ]
  },
  {
   "cell_type": "code",
   "execution_count": 15,
   "metadata": {},
   "outputs": [
    {
     "data": {
      "text/plain": [
       "array([-25.16133175,   0.2062317 ,   0.20147159])"
      ]
     },
     "execution_count": 15,
     "metadata": {},
     "output_type": "execute_result"
    }
   ],
   "source": [
    "optimal_theta"
   ]
  },
  {
   "cell_type": "code",
   "execution_count": 16,
   "metadata": {},
   "outputs": [],
   "source": [
    "def prediction(X, theta):\n",
    "    values_p=  X.dot(theta)\n",
    "    p = sigmoid(values_p)\n",
    "    for i in range(len(X)):\n",
    "        if (p[i]>= 0.5): \n",
    "            p[i] = 1\n",
    "        else:\n",
    "            p[i] = 0\n",
    "    return p"
   ]
  },
  {
   "cell_type": "markdown",
   "metadata": {},
   "source": [
    "#### Expected accuracy (approx): 89%\n",
    "#### Precision Esperada: 89%"
   ]
  },
  {
   "cell_type": "code",
   "execution_count": 49,
   "metadata": {},
   "outputs": [
    {
     "data": {
      "text/plain": [
       "0.89"
      ]
     },
     "execution_count": 49,
     "metadata": {},
     "output_type": "execute_result"
    }
   ],
   "source": [
    "prediction_ = prediction(X, optimal_theta)\n",
    "np.mean(prediction_ == y_train)"
   ]
  },
  {
   "cell_type": "markdown",
   "metadata": {},
   "source": [
    " ##### Podemos decir que si alguien tuvo calificaciones\n",
    "  ##### We can say that if someone had qualifications\n",
    " * calif(1)= 45\n",
    " * calif(2) = 80\n",
    " ##### Probabilidad de pasar(probability of pass) = 55.8930185"
   ]
  },
  {
   "cell_type": "code",
   "execution_count": 51,
   "metadata": {},
   "outputs": [
    {
     "name": "stdout",
     "output_type": "stream",
     "text": [
      "[[55.8930185]]\n"
     ]
    }
   ],
   "source": [
    "t = np.matrix(' 1 45 85')\n",
    "X_one_Student= np.matrix(' 1 45 80') \n",
    "hyp_student=  X_one_Student.dot(optimal_theta)\n",
    "predictionStudent= sigmoid(hyp_student)\n",
    "print(predictionStudent *100)"
   ]
  },
  {
   "cell_type": "code",
   "execution_count": null,
   "metadata": {},
   "outputs": [],
   "source": []
  },
  {
   "cell_type": "code",
   "execution_count": null,
   "metadata": {},
   "outputs": [],
   "source": []
  },
  {
   "cell_type": "code",
   "execution_count": null,
   "metadata": {},
   "outputs": [],
   "source": []
  },
  {
   "cell_type": "code",
   "execution_count": null,
   "metadata": {},
   "outputs": [],
   "source": []
  },
  {
   "cell_type": "code",
   "execution_count": null,
   "metadata": {},
   "outputs": [],
   "source": []
  }
 ],
 "metadata": {
  "kernelspec": {
   "display_name": "Python 3",
   "language": "python",
   "name": "python3"
  },
  "language_info": {
   "codemirror_mode": {
    "name": "ipython",
    "version": 3
   },
   "file_extension": ".py",
   "mimetype": "text/x-python",
   "name": "python",
   "nbconvert_exporter": "python",
   "pygments_lexer": "ipython3",
   "version": "3.6.5"
  }
 },
 "nbformat": 4,
 "nbformat_minor": 2
}
